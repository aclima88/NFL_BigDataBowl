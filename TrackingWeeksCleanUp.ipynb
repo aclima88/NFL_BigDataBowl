{
 "cells": [
  {
   "cell_type": "markdown",
   "id": "53595bd1-75a6-4b6f-9b7c-b4164a10f720",
   "metadata": {},
   "source": [
    "# Tracking Weeks Clean Up\n",
    "\n",
    "In this Jupyter Notebook, we will be cleaning the data from the NFL 2022 season from weeks 1-9."
   ]
  },
  {
   "cell_type": "code",
   "execution_count": 1,
   "id": "51f84957-75aa-4d4a-a91b-821f3f20475e",
   "metadata": {},
   "outputs": [],
   "source": [
    "#Import dependencies\n",
    "import pandas as pd\n",
    "import zipfile\n",
    "import io\n",
    "import os"
   ]
  },
  {
   "cell_type": "markdown",
   "id": "b878a098-4f70-479d-81e2-29bdee0015bd",
   "metadata": {},
   "source": [
    "## Importing Weeks 1-9"
   ]
  },
  {
   "cell_type": "markdown",
   "id": "77f1c8e8-667a-491d-9472-e7c4fd41be12",
   "metadata": {},
   "source": [
    "### Week 1"
   ]
  },
  {
   "cell_type": "code",
   "execution_count": 2,
   "id": "54770324-549e-4652-8bf6-1676a78c70bd",
   "metadata": {
    "tags": []
   },
   "outputs": [
    {
     "ename": "FileNotFoundError",
     "evalue": "[Errno 2] No such file or directory: 'Resources/tracking_week_1_edit.zip'",
     "output_type": "error",
     "traceback": [
      "\u001b[0;31m---------------------------------------------------------------------------\u001b[0m",
      "\u001b[0;31mFileNotFoundError\u001b[0m                         Traceback (most recent call last)",
      "Cell \u001b[0;32mIn[2], line 11\u001b[0m\n\u001b[1;32m      8\u001b[0m os\u001b[38;5;241m.\u001b[39mmakedirs(extracted_dir, exist_ok\u001b[38;5;241m=\u001b[39m\u001b[38;5;28;01mTrue\u001b[39;00m)\n\u001b[1;32m     10\u001b[0m \u001b[38;5;66;03m# Open the zip file\u001b[39;00m\n\u001b[0;32m---> 11\u001b[0m \u001b[38;5;28;01mwith\u001b[39;00m zipfile\u001b[38;5;241m.\u001b[39mZipFile(week_one_zip_path, \u001b[38;5;124m'\u001b[39m\u001b[38;5;124mr\u001b[39m\u001b[38;5;124m'\u001b[39m) \u001b[38;5;28;01mas\u001b[39;00m zip_ref:\n\u001b[1;32m     12\u001b[0m     \u001b[38;5;66;03m# Extract all contents to the specified directory\u001b[39;00m\n\u001b[1;32m     13\u001b[0m     zip_ref\u001b[38;5;241m.\u001b[39mextractall(extracted_dir)\n",
      "File \u001b[0;32m~/anaconda3/envs/dev/lib/python3.11/zipfile.py:1284\u001b[0m, in \u001b[0;36mZipFile.__init__\u001b[0;34m(self, file, mode, compression, allowZip64, compresslevel, strict_timestamps, metadata_encoding)\u001b[0m\n\u001b[1;32m   1282\u001b[0m \u001b[38;5;28;01mwhile\u001b[39;00m \u001b[38;5;28;01mTrue\u001b[39;00m:\n\u001b[1;32m   1283\u001b[0m     \u001b[38;5;28;01mtry\u001b[39;00m:\n\u001b[0;32m-> 1284\u001b[0m         \u001b[38;5;28mself\u001b[39m\u001b[38;5;241m.\u001b[39mfp \u001b[38;5;241m=\u001b[39m io\u001b[38;5;241m.\u001b[39mopen(file, filemode)\n\u001b[1;32m   1285\u001b[0m     \u001b[38;5;28;01mexcept\u001b[39;00m \u001b[38;5;167;01mOSError\u001b[39;00m:\n\u001b[1;32m   1286\u001b[0m         \u001b[38;5;28;01mif\u001b[39;00m filemode \u001b[38;5;129;01min\u001b[39;00m modeDict:\n",
      "\u001b[0;31mFileNotFoundError\u001b[0m: [Errno 2] No such file or directory: 'Resources/tracking_week_1_edit.zip'"
     ]
    }
   ],
   "source": [
    "# Specify the path to your week one zip file\n",
    "week_one_zip_path = 'Resources/tracking_week_1_edit.zip'\n",
    "\n",
    "# Specify the directory where you want to extract the contents\n",
    "extracted_dir = 'ZipResources/tracking_week_1'\n",
    "\n",
    "# Create the target directory if it doesn't exist\n",
    "os.makedirs(extracted_dir, exist_ok=True)\n",
    "\n",
    "# Open the zip file\n",
    "with zipfile.ZipFile(week_one_zip_path, 'r') as zip_ref:\n",
    "    # Extract all contents to the specified directory\n",
    "    zip_ref.extractall(extracted_dir)"
   ]
  }
 ],
 "metadata": {
  "kernelspec": {
   "display_name": "Python 3 (ipykernel)",
   "language": "python",
   "name": "python3"
  },
  "language_info": {
   "codemirror_mode": {
    "name": "ipython",
    "version": 3
   },
   "file_extension": ".py",
   "mimetype": "text/x-python",
   "name": "python",
   "nbconvert_exporter": "python",
   "pygments_lexer": "ipython3",
   "version": "3.11.5"
  }
 },
 "nbformat": 4,
 "nbformat_minor": 5
}
