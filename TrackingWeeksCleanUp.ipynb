{
 "cells": [
  {
   "cell_type": "markdown",
   "id": "53595bd1-75a6-4b6f-9b7c-b4164a10f720",
   "metadata": {},
   "source": [
    "# Tracking Weeks Clean Up\n",
    "\n",
    "In this Jupyter Notebook, we will be cleaning the data from the NFL 2022 season from weeks 1-9."
   ]
  },
  {
   "cell_type": "code",
   "execution_count": 1,
   "id": "51f84957-75aa-4d4a-a91b-821f3f20475e",
   "metadata": {},
   "outputs": [],
   "source": [
    "#Import dependencies\n",
    "import pandas as pd\n",
    "import zipfile\n",
    "import io\n",
    "import os"
   ]
  },
  {
   "cell_type": "markdown",
   "id": "b878a098-4f70-479d-81e2-29bdee0015bd",
   "metadata": {},
   "source": [
    "## Importing Weeks 1-9"
   ]
  },
  {
   "cell_type": "markdown",
   "id": "77f1c8e8-667a-491d-9472-e7c4fd41be12",
   "metadata": {},
   "source": [
    "### Week 1"
   ]
  },
  {
   "cell_type": "code",
   "execution_count": 2,
   "id": "54770324-549e-4652-8bf6-1676a78c70bd",
   "metadata": {
    "tags": []
   },
   "outputs": [],
   "source": [
    "# Specify the path to your week one zip file\n",
    "week_one_zip_path = 'CompressedTrackingWeeks/tracking_week_1.zip'\n",
    "\n",
    "# Specify the directory where you want to extract the contents\n",
    "extracted_dir = 'Resources'\n",
    "\n",
    "# Create the target directory if it doesn't exist\n",
    "os.makedirs(extracted_dir, exist_ok=True)\n",
    "\n",
    "# Open the zip file\n",
    "with zipfile.ZipFile(week_one_zip_path, 'r') as zip_ref:\n",
    "    # Extract all contents to the specified directory\n",
    "    zip_ref.extractall(extracted_dir)"
   ]
  },
  {
   "cell_type": "markdown",
   "id": "55747f76-16e0-4bf7-8de6-74e2b6212bfc",
   "metadata": {},
   "source": [
    "### Week 2"
   ]
  },
  {
   "cell_type": "code",
   "execution_count": 3,
   "id": "ddbe7166-fdbc-4f9e-b48f-0e0b438f4ba7",
   "metadata": {
    "tags": []
   },
   "outputs": [],
   "source": [
    "# Specify the path to your week two zip file\n",
    "week_two_zip_path = 'CompressedTrackingWeeks/tracking_week_2.zip'\n",
    "\n",
    "# Specify the directory where you want to extract the contents\n",
    "extracted_dir = 'Resources'\n",
    "\n",
    "# Create the target directory if it doesn't exist\n",
    "os.makedirs(extracted_dir, exist_ok=True)\n",
    "\n",
    "# Open the zip file\n",
    "with zipfile.ZipFile(week_two_zip_path, 'r') as zip_ref:\n",
    "    # Extract all contents to the specified directory\n",
    "    zip_ref.extractall(extracted_dir)"
   ]
  },
  {
   "cell_type": "markdown",
   "id": "7cd26fc9-3249-4eb2-b4f0-525be393b1dc",
   "metadata": {},
   "source": [
    "### Week 3"
   ]
  },
  {
   "cell_type": "code",
   "execution_count": 5,
   "id": "b0a52223-7aca-4a4a-b223-0f2d63208cbc",
   "metadata": {
    "tags": []
   },
   "outputs": [],
   "source": [
    "# Specify the path to your week three zip file\n",
    "week_three_zip_path = 'CompressedTrackingWeeks/tracking_week_3.zip'\n",
    "\n",
    "# Specify the directory where you want to extract the contents\n",
    "extracted_dir = 'Resources'\n",
    "\n",
    "# Create the target directory if it doesn't exist\n",
    "os.makedirs(extracted_dir, exist_ok=True)\n",
    "\n",
    "# Open the zip file\n",
    "with zipfile.ZipFile(week_three_zip_path, 'r') as zip_ref:\n",
    "    # Extract all contents to the specified directory\n",
    "    zip_ref.extractall(extracted_dir)"
   ]
  },
  {
   "cell_type": "markdown",
   "id": "3a55a10b-ff63-4891-9838-fb1232ffc5d0",
   "metadata": {},
   "source": [
    "### Week 4"
   ]
  },
  {
   "cell_type": "code",
   "execution_count": 6,
   "id": "e24375f4-3716-481c-ae9b-ffa184c08b71",
   "metadata": {
    "tags": []
   },
   "outputs": [],
   "source": [
    "# Specify the path to your week four zip file\n",
    "week_four_zip_path = 'CompressedTrackingWeeks/tracking_week_4.zip'\n",
    "\n",
    "# Specify the directory where you want to extract the contents\n",
    "extracted_dir = 'Resources'\n",
    "\n",
    "# Create the target directory if it doesn't exist\n",
    "os.makedirs(extracted_dir, exist_ok=True)\n",
    "\n",
    "# Open the zip file\n",
    "with zipfile.ZipFile(week_four_zip_path, 'r') as zip_ref:\n",
    "    # Extract all contents to the specified directory\n",
    "    zip_ref.extractall(extracted_dir)"
   ]
  },
  {
   "cell_type": "markdown",
   "id": "808ac035-eddb-48ae-882f-407761410f43",
   "metadata": {},
   "source": [
    "### Week 5"
   ]
  },
  {
   "cell_type": "code",
   "execution_count": 7,
   "id": "2fffe638-fbcb-43ae-b79b-ad8d1faa72db",
   "metadata": {
    "tags": []
   },
   "outputs": [],
   "source": [
    "# Specify the path to your week five zip file\n",
    "week_five_zip_path = 'CompressedTrackingWeeks/tracking_week_5.zip'\n",
    "\n",
    "# Specify the directory where you want to extract the contents\n",
    "extracted_dir = 'Resources'\n",
    "\n",
    "# Create the target directory if it doesn't exist\n",
    "os.makedirs(extracted_dir, exist_ok=True)\n",
    "\n",
    "# Open the zip file\n",
    "with zipfile.ZipFile(week_five_zip_path, 'r') as zip_ref:\n",
    "    # Extract all contents to the specified directory\n",
    "    zip_ref.extractall(extracted_dir)"
   ]
  },
  {
   "cell_type": "markdown",
   "id": "39c22d6e-a7a5-4f6f-88fb-b8a04948116c",
   "metadata": {},
   "source": [
    "### Week 6"
   ]
  },
  {
   "cell_type": "code",
   "execution_count": 8,
   "id": "a2490da8-76fb-49cd-8590-7efbdd27e801",
   "metadata": {
    "tags": []
   },
   "outputs": [],
   "source": [
    "# Specify the path to your week six zip file\n",
    "week_six_zip_path = 'CompressedTrackingWeeks/tracking_week_6.zip'\n",
    "\n",
    "# Specify the directory where you want to extract the contents\n",
    "extracted_dir = 'Resources'\n",
    "\n",
    "# Create the target directory if it doesn't exist\n",
    "os.makedirs(extracted_dir, exist_ok=True)\n",
    "\n",
    "# Open the zip file\n",
    "with zipfile.ZipFile(week_six_zip_path, 'r') as zip_ref:\n",
    "    # Extract all contents to the specified directory\n",
    "    zip_ref.extractall(extracted_dir)"
   ]
  },
  {
   "cell_type": "markdown",
   "id": "e830c4eb-940d-4db8-8bb9-7fe7486d71d5",
   "metadata": {},
   "source": [
    "### Week 7"
   ]
  },
  {
   "cell_type": "code",
   "execution_count": 9,
   "id": "49be93c9-2647-4daf-94c6-c4370d02f238",
   "metadata": {
    "tags": []
   },
   "outputs": [],
   "source": [
    "# Specify the path to your week seven zip file\n",
    "week_seven_zip_path = 'CompressedTrackingWeeks/tracking_week_7.zip'\n",
    "\n",
    "# Specify the directory where you want to extract the contents\n",
    "extracted_dir = 'Resources'\n",
    "\n",
    "# Create the target directory if it doesn't exist\n",
    "os.makedirs(extracted_dir, exist_ok=True)\n",
    "\n",
    "# Open the zip file\n",
    "with zipfile.ZipFile(week_seven_zip_path, 'r') as zip_ref:\n",
    "    # Extract all contents to the specified directory\n",
    "    zip_ref.extractall(extracted_dir)"
   ]
  },
  {
   "cell_type": "markdown",
   "id": "962f4974-f06b-4cea-bd54-16fb1ec54a10",
   "metadata": {},
   "source": [
    "### Week 8"
   ]
  },
  {
   "cell_type": "code",
   "execution_count": 11,
   "id": "a408f61f-652b-4d3a-b546-7faf850f78d2",
   "metadata": {
    "tags": []
   },
   "outputs": [],
   "source": [
    "# Specify the path to your week eight zip file\n",
    "week_eight_zip_path = 'CompressedTrackingWeeks/tracking_week_8.zip'\n",
    "\n",
    "# Specify the directory where you want to extract the contents\n",
    "extracted_dir = 'Resources'\n",
    "\n",
    "# Create the target directory if it doesn't exist\n",
    "os.makedirs(extracted_dir, exist_ok=True)\n",
    "\n",
    "# Open the zip file\n",
    "with zipfile.ZipFile(week_eight_zip_path, 'r') as zip_ref:\n",
    "    # Extract all contents to the specified directory\n",
    "    zip_ref.extractall(extracted_dir)"
   ]
  },
  {
   "cell_type": "markdown",
   "id": "b90ddaa6-41ea-4be5-840a-c160b69f4edb",
   "metadata": {},
   "source": [
    "### Week 9"
   ]
  },
  {
   "cell_type": "code",
   "execution_count": 11,
   "id": "5071a8e7-f9c3-404b-aab1-4554ea060920",
   "metadata": {
    "tags": []
   },
   "outputs": [],
   "source": [
    "# Specify the path to your week eight zip file\n",
    "week_eight_zip_path = 'CompressedTrackingWeeks/tracking_week_8.zip'\n",
    "\n",
    "# Specify the directory where you want to extract the contents\n",
    "extracted_dir = 'Resources'\n",
    "\n",
    "# Create the target directory if it doesn't exist\n",
    "os.makedirs(extracted_dir, exist_ok=True)\n",
    "\n",
    "# Open the zip file\n",
    "with zipfile.ZipFile(week_eight_zip_path, 'r') as zip_ref:\n",
    "    # Extract all contents to the specified directory\n",
    "    zip_ref.extractall(extracted_dir)"
   ]
  }
 ],
 "metadata": {
  "kernelspec": {
   "display_name": "Python 3 (ipykernel)",
   "language": "python",
   "name": "python3"
  },
  "language_info": {
   "codemirror_mode": {
    "name": "ipython",
    "version": 3
   },
   "file_extension": ".py",
   "mimetype": "text/x-python",
   "name": "python",
   "nbconvert_exporter": "python",
   "pygments_lexer": "ipython3",
   "version": "3.11.5"
  }
 },
 "nbformat": 4,
 "nbformat_minor": 5
}
